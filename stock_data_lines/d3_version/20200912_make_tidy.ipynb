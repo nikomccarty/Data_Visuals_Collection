{
 "cells": [
  {
   "cell_type": "code",
   "execution_count": 1,
   "metadata": {},
   "outputs": [],
   "source": [
    "import pandas as pd"
   ]
  },
  {
   "cell_type": "code",
   "execution_count": 9,
   "metadata": {},
   "outputs": [],
   "source": [
    "df = pd.read_csv('stock_data_tidy.csv')"
   ]
  },
  {
   "cell_type": "code",
   "execution_count": 10,
   "metadata": {},
   "outputs": [
    {
     "data": {
      "text/html": [
       "<div>\n",
       "<style scoped>\n",
       "    .dataframe tbody tr th:only-of-type {\n",
       "        vertical-align: middle;\n",
       "    }\n",
       "\n",
       "    .dataframe tbody tr th {\n",
       "        vertical-align: top;\n",
       "    }\n",
       "\n",
       "    .dataframe thead th {\n",
       "        text-align: right;\n",
       "    }\n",
       "</style>\n",
       "<table border=\"1\" class=\"dataframe\">\n",
       "  <thead>\n",
       "    <tr style=\"text-align: right;\">\n",
       "      <th></th>\n",
       "      <th>date</th>\n",
       "      <th>AMZN</th>\n",
       "      <th>GOOG</th>\n",
       "      <th>FB</th>\n",
       "      <th>BABA</th>\n",
       "      <th>JD</th>\n",
       "    </tr>\n",
       "  </thead>\n",
       "  <tbody>\n",
       "    <tr>\n",
       "      <th>0</th>\n",
       "      <td>9/15/2014</td>\n",
       "      <td>331.320007</td>\n",
       "      <td>594.447937</td>\n",
       "      <td>77.910004</td>\n",
       "      <td>93.889999</td>\n",
       "      <td>28.35</td>\n",
       "    </tr>\n",
       "    <tr>\n",
       "      <th>1</th>\n",
       "      <td>9/22/2014</td>\n",
       "      <td>323.209991</td>\n",
       "      <td>575.519897</td>\n",
       "      <td>78.790001</td>\n",
       "      <td>90.459999</td>\n",
       "      <td>26.93</td>\n",
       "    </tr>\n",
       "    <tr>\n",
       "      <th>2</th>\n",
       "      <td>9/29/2014</td>\n",
       "      <td>322.739990</td>\n",
       "      <td>573.704895</td>\n",
       "      <td>77.440002</td>\n",
       "      <td>88.099998</td>\n",
       "      <td>25.98</td>\n",
       "    </tr>\n",
       "    <tr>\n",
       "      <th>3</th>\n",
       "      <td>10/6/2014</td>\n",
       "      <td>311.390015</td>\n",
       "      <td>542.999207</td>\n",
       "      <td>72.910004</td>\n",
       "      <td>85.879997</td>\n",
       "      <td>25.01</td>\n",
       "    </tr>\n",
       "    <tr>\n",
       "      <th>4</th>\n",
       "      <td>10/13/2014</td>\n",
       "      <td>303.640015</td>\n",
       "      <td>509.770416</td>\n",
       "      <td>75.949997</td>\n",
       "      <td>87.910004</td>\n",
       "      <td>25.07</td>\n",
       "    </tr>\n",
       "  </tbody>\n",
       "</table>\n",
       "</div>"
      ],
      "text/plain": [
       "         date        AMZN        GOOG         FB       BABA     JD\n",
       "0   9/15/2014  331.320007  594.447937  77.910004  93.889999  28.35\n",
       "1   9/22/2014  323.209991  575.519897  78.790001  90.459999  26.93\n",
       "2   9/29/2014  322.739990  573.704895  77.440002  88.099998  25.98\n",
       "3   10/6/2014  311.390015  542.999207  72.910004  85.879997  25.01\n",
       "4  10/13/2014  303.640015  509.770416  75.949997  87.910004  25.07"
      ]
     },
     "execution_count": 10,
     "metadata": {},
     "output_type": "execute_result"
    }
   ],
   "source": [
    "df.head()"
   ]
  },
  {
   "cell_type": "code",
   "execution_count": 13,
   "metadata": {},
   "outputs": [],
   "source": [
    "df_melt = pd.melt(df, id_vars=['date'], value_vars=['AMZN', 'GOOG', 'FB', 'BABA', 'JD'])"
   ]
  },
  {
   "cell_type": "code",
   "execution_count": 19,
   "metadata": {},
   "outputs": [
    {
     "data": {
      "text/html": [
       "<div>\n",
       "<style scoped>\n",
       "    .dataframe tbody tr th:only-of-type {\n",
       "        vertical-align: middle;\n",
       "    }\n",
       "\n",
       "    .dataframe tbody tr th {\n",
       "        vertical-align: top;\n",
       "    }\n",
       "\n",
       "    .dataframe thead th {\n",
       "        text-align: right;\n",
       "    }\n",
       "</style>\n",
       "<table border=\"1\" class=\"dataframe\">\n",
       "  <thead>\n",
       "    <tr style=\"text-align: right;\">\n",
       "      <th></th>\n",
       "      <th>date</th>\n",
       "      <th>variable</th>\n",
       "      <th>value</th>\n",
       "    </tr>\n",
       "  </thead>\n",
       "  <tbody>\n",
       "    <tr>\n",
       "      <th>1065</th>\n",
       "      <td>2/13/2017</td>\n",
       "      <td>BABA</td>\n",
       "      <td>100.519997</td>\n",
       "    </tr>\n",
       "    <tr>\n",
       "      <th>1066</th>\n",
       "      <td>2/20/2017</td>\n",
       "      <td>BABA</td>\n",
       "      <td>102.949997</td>\n",
       "    </tr>\n",
       "    <tr>\n",
       "      <th>1067</th>\n",
       "      <td>2/27/2017</td>\n",
       "      <td>BABA</td>\n",
       "      <td>103.309998</td>\n",
       "    </tr>\n",
       "    <tr>\n",
       "      <th>1068</th>\n",
       "      <td>3/6/2017</td>\n",
       "      <td>BABA</td>\n",
       "      <td>103.389999</td>\n",
       "    </tr>\n",
       "    <tr>\n",
       "      <th>1069</th>\n",
       "      <td>3/13/2017</td>\n",
       "      <td>BABA</td>\n",
       "      <td>105.610001</td>\n",
       "    </tr>\n",
       "    <tr>\n",
       "      <th>...</th>\n",
       "      <td>...</td>\n",
       "      <td>...</td>\n",
       "      <td>...</td>\n",
       "    </tr>\n",
       "    <tr>\n",
       "      <th>1560</th>\n",
       "      <td>8/10/2020</td>\n",
       "      <td>JD</td>\n",
       "      <td>62.060001</td>\n",
       "    </tr>\n",
       "    <tr>\n",
       "      <th>1561</th>\n",
       "      <td>8/17/2020</td>\n",
       "      <td>JD</td>\n",
       "      <td>74.980003</td>\n",
       "    </tr>\n",
       "    <tr>\n",
       "      <th>1562</th>\n",
       "      <td>8/24/2020</td>\n",
       "      <td>JD</td>\n",
       "      <td>79.959999</td>\n",
       "    </tr>\n",
       "    <tr>\n",
       "      <th>1563</th>\n",
       "      <td>8/31/2020</td>\n",
       "      <td>JD</td>\n",
       "      <td>80.000000</td>\n",
       "    </tr>\n",
       "    <tr>\n",
       "      <th>1564</th>\n",
       "      <td>9/7/2020</td>\n",
       "      <td>JD</td>\n",
       "      <td>76.220001</td>\n",
       "    </tr>\n",
       "  </tbody>\n",
       "</table>\n",
       "<p>500 rows × 3 columns</p>\n",
       "</div>"
      ],
      "text/plain": [
       "           date variable       value\n",
       "1065  2/13/2017     BABA  100.519997\n",
       "1066  2/20/2017     BABA  102.949997\n",
       "1067  2/27/2017     BABA  103.309998\n",
       "1068   3/6/2017     BABA  103.389999\n",
       "1069  3/13/2017     BABA  105.610001\n",
       "...         ...      ...         ...\n",
       "1560  8/10/2020       JD   62.060001\n",
       "1561  8/17/2020       JD   74.980003\n",
       "1562  8/24/2020       JD   79.959999\n",
       "1563  8/31/2020       JD   80.000000\n",
       "1564   9/7/2020       JD   76.220001\n",
       "\n",
       "[500 rows x 3 columns]"
      ]
     },
     "execution_count": 19,
     "metadata": {},
     "output_type": "execute_result"
    }
   ],
   "source": [
    "df_melt.tail(500)"
   ]
  },
  {
   "cell_type": "code",
   "execution_count": 20,
   "metadata": {},
   "outputs": [],
   "source": [
    "df_melt.to_csv('stock_data_tidy.csv')"
   ]
  },
  {
   "cell_type": "code",
   "execution_count": null,
   "metadata": {},
   "outputs": [],
   "source": []
  }
 ],
 "metadata": {
  "kernelspec": {
   "display_name": "Python 3",
   "language": "python",
   "name": "python3"
  },
  "language_info": {
   "codemirror_mode": {
    "name": "ipython",
    "version": 3
   },
   "file_extension": ".py",
   "mimetype": "text/x-python",
   "name": "python",
   "nbconvert_exporter": "python",
   "pygments_lexer": "ipython3",
   "version": "3.7.6"
  }
 },
 "nbformat": 4,
 "nbformat_minor": 4
}
